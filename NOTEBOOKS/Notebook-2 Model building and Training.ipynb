{
 "cells": [
  {
   "cell_type": "markdown",
   "id": "1bdb80af",
   "metadata": {
    "_cell_guid": "b1076dfc-b9ad-4769-8c92-a6c4dae69d19",
    "_uuid": "8f2839f25d086af736a60e9eeb907d3b93b6e0e5",
    "execution": {
     "iopub.execute_input": "2023-01-31T09:30:19.680857Z",
     "iopub.status.busy": "2023-01-31T09:30:19.679933Z",
     "iopub.status.idle": "2023-01-31T09:30:19.686897Z",
     "shell.execute_reply": "2023-01-31T09:30:19.685857Z",
     "shell.execute_reply.started": "2023-01-31T09:30:19.680804Z"
    },
    "papermill": {
     "duration": 0.005469,
     "end_time": "2023-02-01T18:32:59.653860",
     "exception": false,
     "start_time": "2023-02-01T18:32:59.648391",
     "status": "completed"
    },
    "tags": []
   },
   "source": [
    "# Import all the libraries"
   ]
  },
  {
   "cell_type": "code",
   "execution_count": 1,
   "id": "22b0d7d4",
   "metadata": {
    "execution": {
     "iopub.execute_input": "2023-02-01T18:32:59.665332Z",
     "iopub.status.busy": "2023-02-01T18:32:59.664469Z",
     "iopub.status.idle": "2023-02-01T18:33:05.848955Z",
     "shell.execute_reply": "2023-02-01T18:33:05.847961Z"
    },
    "papermill": {
     "duration": 6.19337,
     "end_time": "2023-02-01T18:33:05.851586",
     "exception": false,
     "start_time": "2023-02-01T18:32:59.658216",
     "status": "completed"
    },
    "tags": []
   },
   "outputs": [],
   "source": [
    "import numpy as np\n",
    "import pandas as pd\n",
    "from PIL import Image\n",
    "import tensorflow as tf\n",
    "from sklearn.model_selection import train_test_split\n",
    "import cv2\n",
    "import gc\n",
    "import os\n",
    "import tensorflow as tf\n",
    "from openslide import open_slide\n",
    "import keras\n",
    "from openslide.deepzoom import DeepZoomGenerator\n",
    "import matplotlib.pyplot as plt\n",
    "from tensorflow import keras\n",
    "from tensorflow.keras import layers\n",
    "from tensorflow.keras import applications\n"
   ]
  },
  {
   "cell_type": "code",
   "execution_count": 2,
   "id": "85986d08",
   "metadata": {
    "execution": {
     "iopub.execute_input": "2023-02-01T18:33:05.863559Z",
     "iopub.status.busy": "2023-02-01T18:33:05.861833Z",
     "iopub.status.idle": "2023-02-01T18:33:08.715044Z",
     "shell.execute_reply": "2023-02-01T18:33:08.713999Z"
    },
    "papermill": {
     "duration": 2.861105,
     "end_time": "2023-02-01T18:33:08.717412",
     "exception": false,
     "start_time": "2023-02-01T18:33:05.856307",
     "status": "completed"
    },
    "tags": []
   },
   "outputs": [
    {
     "name": "stderr",
     "output_type": "stream",
     "text": [
      "2023-02-01 18:33:05.959879: I tensorflow/stream_executor/cuda/cuda_gpu_executor.cc:937] successful NUMA node read from SysFS had negative value (-1), but there must be at least one NUMA node, so returning NUMA node zero\n",
      "2023-02-01 18:33:06.084071: I tensorflow/stream_executor/cuda/cuda_gpu_executor.cc:937] successful NUMA node read from SysFS had negative value (-1), but there must be at least one NUMA node, so returning NUMA node zero\n",
      "2023-02-01 18:33:06.084868: I tensorflow/stream_executor/cuda/cuda_gpu_executor.cc:937] successful NUMA node read from SysFS had negative value (-1), but there must be at least one NUMA node, so returning NUMA node zero\n",
      "2023-02-01 18:33:06.086638: I tensorflow/core/platform/cpu_feature_guard.cc:142] This TensorFlow binary is optimized with oneAPI Deep Neural Network Library (oneDNN) to use the following CPU instructions in performance-critical operations:  AVX2 AVX512F FMA\n",
      "To enable them in other operations, rebuild TensorFlow with the appropriate compiler flags.\n",
      "2023-02-01 18:33:06.092733: I tensorflow/stream_executor/cuda/cuda_gpu_executor.cc:937] successful NUMA node read from SysFS had negative value (-1), but there must be at least one NUMA node, so returning NUMA node zero\n",
      "2023-02-01 18:33:06.093451: I tensorflow/stream_executor/cuda/cuda_gpu_executor.cc:937] successful NUMA node read from SysFS had negative value (-1), but there must be at least one NUMA node, so returning NUMA node zero\n",
      "2023-02-01 18:33:06.094160: I tensorflow/stream_executor/cuda/cuda_gpu_executor.cc:937] successful NUMA node read from SysFS had negative value (-1), but there must be at least one NUMA node, so returning NUMA node zero\n",
      "2023-02-01 18:33:08.275846: I tensorflow/stream_executor/cuda/cuda_gpu_executor.cc:937] successful NUMA node read from SysFS had negative value (-1), but there must be at least one NUMA node, so returning NUMA node zero\n",
      "2023-02-01 18:33:08.276710: I tensorflow/stream_executor/cuda/cuda_gpu_executor.cc:937] successful NUMA node read from SysFS had negative value (-1), but there must be at least one NUMA node, so returning NUMA node zero\n",
      "2023-02-01 18:33:08.277403: I tensorflow/stream_executor/cuda/cuda_gpu_executor.cc:937] successful NUMA node read from SysFS had negative value (-1), but there must be at least one NUMA node, so returning NUMA node zero\n",
      "2023-02-01 18:33:08.278021: I tensorflow/core/common_runtime/gpu/gpu_device.cc:1510] Created device /job:localhost/replica:0/task:0/device:GPU:0 with 15401 MB memory:  -> device: 0, name: Tesla P100-PCIE-16GB, pci bus id: 0000:00:04.0, compute capability: 6.0\n"
     ]
    }
   ],
   "source": [
    "inp_size=512\n",
    "eff_res_stacked = '/kaggle/input/all-models-final/effb0_res151_stacked.h5'\n",
    "res='/kaggle/input/all-models-final/Resnet152.h5'\n",
    "eff='/kaggle/input/all-models-final/effB0.h5'\n",
    "\n",
    "simple_cnn = keras.Sequential([\n",
    "    layers.Conv2D(filters = 8, kernel_size = (3,3),input_shape = (inp_size,inp_size,3), padding = 'same', activation = 'relu'),\n",
    "    layers.MaxPool2D(pool_size=2,strides=2),\n",
    "    layers.Conv2D(filters = 16, kernel_size = (3,3), padding = 'same', activation = 'relu'),\n",
    "    layers.MaxPool2D(pool_size=2,strides=2),\n",
    "    layers.Conv2D(filters = 32, kernel_size = (3,3), padding = 'same', activation = 'relu'),\n",
    "    layers.Flatten(),\n",
    "    layers.Dense(128, activation='relu'),\n",
    "    layers.Dropout(0.25),\n",
    "    layers.Dense(2,activation='softmax'),\n",
    "])\n",
    "\n",
    "# input_layer = layers.Input(shape = (inp_size, inp_size, 3))\n",
    "# base_1 = keras.applications.EfficientNetB0(weights = 'imagenet', include_top = False, input_shape = (inp_size, inp_size, 3))\n",
    "# for layer in base_1.layers:\n",
    "#     layer.trainable =  False\n",
    "# model_1 = base_1(input_layer)\n",
    "# model_1 = layers.GlobalAveragePooling2D()(model_1)\n",
    "# output_1 = layers.Flatten()(model_1)\n",
    "# x = layers.BatchNormalization()(output_1)\n",
    "# x = layers.Dense(512,activation = 'relu')(x)\n",
    "# x = layers.Dropout(0.25)(x)\n",
    "# x = layers.Dense(128,activation = 'relu')(x)\n",
    "# x = layers.Dense(2,activation='softmax')(x)\n",
    "# eff = tf.keras.models.Model(inputs = input_layer, outputs = x)\n",
    "\n",
    "\n",
    "# #---------------\n",
    "# input_layer = layers.Input(shape = (inp_size, inp_size, 3))\n",
    "# base_1 = keras.applications.EfficientNetB0(weights = 'imagenet', include_top = False, input_shape = (inp_size, inp_size, 3))\n",
    "# for layer in base_1.layers:\n",
    "#     layer.trainable =  False\n",
    "# model_1 = base_1(input_layer)\n",
    "# model_1 = layers.GlobalAveragePooling2D()(model_1)\n",
    "# output_1 = layers.Flatten()(model_1)\n",
    "# x = layers.BatchNormalization()(output_1)\n",
    "# x = layers.Dense(128,activation = 'relu')(x)\n",
    "# x = layers.Dense(2,activation='softmax')(x)\n",
    "# eff_single_fc = tf.keras.models.Model(inputs = input_layer, outputs = x)"
   ]
  },
  {
   "cell_type": "markdown",
   "id": "f584981e",
   "metadata": {
    "papermill": {
     "duration": 0.004188,
     "end_time": "2023-02-01T18:33:08.726499",
     "exception": false,
     "start_time": "2023-02-01T18:33:08.722311",
     "status": "completed"
    },
    "tags": []
   },
   "source": [
    "# Hyper Parameters to be Tuned"
   ]
  },
  {
   "cell_type": "code",
   "execution_count": 3,
   "id": "ecbdadff",
   "metadata": {
    "execution": {
     "iopub.execute_input": "2023-02-01T18:33:08.737857Z",
     "iopub.status.busy": "2023-02-01T18:33:08.736061Z",
     "iopub.status.idle": "2023-02-01T18:33:08.742582Z",
     "shell.execute_reply": "2023-02-01T18:33:08.741646Z"
    },
    "papermill": {
     "duration": 0.014022,
     "end_time": "2023-02-01T18:33:08.744660",
     "exception": false,
     "start_time": "2023-02-01T18:33:08.730638",
     "status": "completed"
    },
    "tags": []
   },
   "outputs": [],
   "source": [
    "models=[]\n",
    "model_list = []\n",
    "models.append(simple_cnn)\n",
    "epochs=30\n",
    "batch_size=32\n",
    "learning_rate = 1e-3\n",
    "optimizer = tf.keras.optimizers.Adam(learning_rate=learning_rate)  #adam or sgd\n",
    "\n",
    "color_normalized = 'no'"
   ]
  },
  {
   "cell_type": "markdown",
   "id": "ddf961e0",
   "metadata": {
    "papermill": {
     "duration": 0.004061,
     "end_time": "2023-02-01T18:33:08.752976",
     "exception": false,
     "start_time": "2023-02-01T18:33:08.748915",
     "status": "completed"
    },
    "tags": []
   },
   "source": [
    "# Fixed Parameters and paths"
   ]
  },
  {
   "cell_type": "code",
   "execution_count": 4,
   "id": "261d1087",
   "metadata": {
    "execution": {
     "iopub.execute_input": "2023-02-01T18:33:08.763154Z",
     "iopub.status.busy": "2023-02-01T18:33:08.762662Z",
     "iopub.status.idle": "2023-02-01T18:33:08.769248Z",
     "shell.execute_reply": "2023-02-01T18:33:08.767617Z"
    },
    "papermill": {
     "duration": 0.013885,
     "end_time": "2023-02-01T18:33:08.771303",
     "exception": false,
     "start_time": "2023-02-01T18:33:08.757418",
     "status": "completed"
    },
    "tags": []
   },
   "outputs": [],
   "source": [
    "if color_normalized == 'yes':\n",
    "    dataset_directory='/kaggle/input/mayo-512720-dataset/DATASET/norm'\n",
    "else:\n",
    "    dataset_directory='/kaggle/input/mayo-512720-dataset/DATASET/original'\n",
    "\n",
    "#----------------------\n",
    "classMode = 'categorical'\n",
    "loss = 'categorical_crossentropy'\n",
    "val_split = 0\n",
    "Num_tiles_to_consider_for_prediction = 3\n",
    "validation_steps= 10\n",
    "steps_per_epoch = 10\n",
    "val_batch_size=16\n",
    "\n",
    "train_csv='/kaggle/input/mayo-clinic-strip-ai/train.csv'\n",
    "test_csv = '/kaggle/input/mayo-clinic-strip-ai/test.csv'\n",
    "sample_sub_csv='/kaggle/input/mayo-clinic-strip-ai/sample_submission.csv'\n",
    "\n",
    "train_imgs_dir = '/kaggle/input/mayo-clinic-strip-ai/train'\n",
    "test_imgs_dir='/kaggle/input/mayo-clinic-strip-ai/test'"
   ]
  },
  {
   "cell_type": "markdown",
   "id": "7621cde4",
   "metadata": {
    "execution": {
     "iopub.execute_input": "2023-01-31T12:01:09.514398Z",
     "iopub.status.busy": "2023-01-31T12:01:09.513945Z",
     "iopub.status.idle": "2023-01-31T12:01:09.520352Z",
     "shell.execute_reply": "2023-01-31T12:01:09.518836Z",
     "shell.execute_reply.started": "2023-01-31T12:01:09.514366Z"
    },
    "papermill": {
     "duration": 0.004169,
     "end_time": "2023-02-01T18:33:08.779622",
     "exception": false,
     "start_time": "2023-02-01T18:33:08.775453",
     "status": "completed"
    },
    "tags": []
   },
   "source": [
    "# Load and compile the models"
   ]
  },
  {
   "cell_type": "code",
   "execution_count": 5,
   "id": "85abefe7",
   "metadata": {
    "execution": {
     "iopub.execute_input": "2023-02-01T18:33:08.789203Z",
     "iopub.status.busy": "2023-02-01T18:33:08.788944Z",
     "iopub.status.idle": "2023-02-01T18:33:08.793058Z",
     "shell.execute_reply": "2023-02-01T18:33:08.792069Z"
    },
    "papermill": {
     "duration": 0.011352,
     "end_time": "2023-02-01T18:33:08.795337",
     "exception": false,
     "start_time": "2023-02-01T18:33:08.783985",
     "status": "completed"
    },
    "tags": []
   },
   "outputs": [],
   "source": [
    "for i in model_list:\n",
    "    models.append(keras.models.load_model(i))"
   ]
  },
  {
   "cell_type": "code",
   "execution_count": 6,
   "id": "28cce8c3",
   "metadata": {
    "execution": {
     "iopub.execute_input": "2023-02-01T18:33:08.805101Z",
     "iopub.status.busy": "2023-02-01T18:33:08.804846Z",
     "iopub.status.idle": "2023-02-01T18:33:08.816625Z",
     "shell.execute_reply": "2023-02-01T18:33:08.815854Z"
    },
    "papermill": {
     "duration": 0.019066,
     "end_time": "2023-02-01T18:33:08.818569",
     "exception": false,
     "start_time": "2023-02-01T18:33:08.799503",
     "status": "completed"
    },
    "tags": []
   },
   "outputs": [],
   "source": [
    "for i in models:\n",
    "    i.compile(\n",
    "        optimizer=optimizer,\n",
    "        loss=loss,\n",
    "        metrics=['accuracy'])"
   ]
  },
  {
   "cell_type": "code",
   "execution_count": 7,
   "id": "c70828d7",
   "metadata": {
    "execution": {
     "iopub.execute_input": "2023-02-01T18:33:08.828712Z",
     "iopub.status.busy": "2023-02-01T18:33:08.827975Z",
     "iopub.status.idle": "2023-02-01T18:33:08.836181Z",
     "shell.execute_reply": "2023-02-01T18:33:08.835289Z"
    },
    "papermill": {
     "duration": 0.015193,
     "end_time": "2023-02-01T18:33:08.838196",
     "exception": false,
     "start_time": "2023-02-01T18:33:08.823003",
     "status": "completed"
    },
    "tags": []
   },
   "outputs": [
    {
     "data": {
      "text/plain": [
       "[<keras.engine.sequential.Sequential at 0x7f33ba58f450>]"
      ]
     },
     "execution_count": 7,
     "metadata": {},
     "output_type": "execute_result"
    }
   ],
   "source": [
    "models"
   ]
  },
  {
   "cell_type": "code",
   "execution_count": 8,
   "id": "fed89e8c",
   "metadata": {
    "execution": {
     "iopub.execute_input": "2023-02-01T18:33:08.849515Z",
     "iopub.status.busy": "2023-02-01T18:33:08.848570Z",
     "iopub.status.idle": "2023-02-01T18:33:13.104074Z",
     "shell.execute_reply": "2023-02-01T18:33:13.102764Z"
    },
    "papermill": {
     "duration": 4.264169,
     "end_time": "2023-02-01T18:33:13.107017",
     "exception": false,
     "start_time": "2023-02-01T18:33:08.842848",
     "status": "completed"
    },
    "tags": []
   },
   "outputs": [
    {
     "name": "stdout",
     "output_type": "stream",
     "text": [
      "/kaggle/input/mayo-512720-dataset/DATASET/original\n",
      "Found 4871 images belonging to 2 classes.\n",
      "Found 0 images belonging to 2 classes.\n",
      "{'ce': 0, 'laa': 1}\n"
     ]
    }
   ],
   "source": [
    "from tensorflow.keras.preprocessing.image import ImageDataGenerator\n",
    "\n",
    "datagen = ImageDataGenerator(\n",
    "    rescale=1./255,\n",
    "    rotation_range=45, \n",
    "    validation_split=val_split,\n",
    "    width_shift_range=0.3,\n",
    "    height_shift_range=0.3,\n",
    "    brightness_range=[0.5,2.0],\n",
    "    zoom_range = [0.5,2.0],\n",
    "    horizontal_flip=True,\n",
    "    vertical_flip=True\n",
    ")\n",
    "\n",
    "print(dataset_directory)\n",
    "train_generator = datagen.flow_from_directory(\n",
    "    dataset_directory,\n",
    "    target_size=(inp_size, inp_size),\n",
    "    batch_size=batch_size,\n",
    "    shuffle=True,\n",
    "    class_mode=classMode,\n",
    "    subset='training',\n",
    ")\n",
    "\n",
    "validation_generator = datagen.flow_from_directory(\n",
    "    dataset_directory,\n",
    "    target_size=(inp_size, inp_size),\n",
    "    batch_size=val_batch_size,\n",
    "    shuffle=True,\n",
    "    class_mode=classMode,\n",
    "    subset='validation',\n",
    ")\n",
    "\n",
    "class_indices = train_generator.class_indices\n",
    "print(class_indices)"
   ]
  },
  {
   "cell_type": "code",
   "execution_count": 9,
   "id": "59065080",
   "metadata": {
    "execution": {
     "iopub.execute_input": "2023-02-01T18:33:13.118200Z",
     "iopub.status.busy": "2023-02-01T18:33:13.117891Z",
     "iopub.status.idle": "2023-02-01T18:51:28.773641Z",
     "shell.execute_reply": "2023-02-01T18:51:28.772475Z"
    },
    "papermill": {
     "duration": 1095.663839,
     "end_time": "2023-02-01T18:51:28.776113",
     "exception": false,
     "start_time": "2023-02-01T18:33:13.112274",
     "status": "completed"
    },
    "tags": []
   },
   "outputs": [
    {
     "name": "stderr",
     "output_type": "stream",
     "text": [
      "2023-02-01 18:33:16.490973: I tensorflow/compiler/mlir/mlir_graph_optimization_pass.cc:185] None of the MLIR Optimization Passes are enabled (registered 2)\n"
     ]
    },
    {
     "name": "stdout",
     "output_type": "stream",
     "text": [
      "Epoch 1/30\n"
     ]
    },
    {
     "name": "stderr",
     "output_type": "stream",
     "text": [
      "2023-02-01 18:33:21.312787: I tensorflow/stream_executor/cuda/cuda_dnn.cc:369] Loaded cuDNN version 8005\n"
     ]
    },
    {
     "name": "stdout",
     "output_type": "stream",
     "text": [
      "10/10 [==============================] - 36s 3s/step - loss: 11.1823 - accuracy: 0.4625\n",
      "Epoch 2/30\n",
      "10/10 [==============================] - 31s 3s/step - loss: 1.3226 - accuracy: 0.5562\n",
      "Epoch 3/30\n",
      "10/10 [==============================] - 29s 3s/step - loss: 0.7235 - accuracy: 0.5492\n",
      "Epoch 4/30\n",
      "10/10 [==============================] - 30s 3s/step - loss: 0.7000 - accuracy: 0.4875\n",
      "Epoch 5/30\n",
      "10/10 [==============================] - 30s 3s/step - loss: 0.6877 - accuracy: 0.5750\n",
      "Epoch 6/30\n",
      "10/10 [==============================] - 30s 3s/step - loss: 0.6940 - accuracy: 0.5031\n",
      "Epoch 7/30\n",
      "10/10 [==============================] - 30s 3s/step - loss: 0.6906 - accuracy: 0.5219\n",
      "Epoch 8/30\n",
      "10/10 [==============================] - 29s 3s/step - loss: 0.6885 - accuracy: 0.5469\n",
      "Epoch 9/30\n",
      "10/10 [==============================] - 29s 3s/step - loss: 0.6872 - accuracy: 0.5437\n",
      "Epoch 10/30\n",
      "10/10 [==============================] - 29s 3s/step - loss: 0.6812 - accuracy: 0.5719\n",
      "Epoch 11/30\n",
      "10/10 [==============================] - 27s 3s/step - loss: 0.6797 - accuracy: 0.5322\n",
      "Epoch 12/30\n",
      "10/10 [==============================] - 26s 3s/step - loss: 0.6850 - accuracy: 0.5695\n",
      "Epoch 13/30\n",
      "10/10 [==============================] - 29s 3s/step - loss: 0.6941 - accuracy: 0.5031\n",
      "Epoch 14/30\n",
      "10/10 [==============================] - 28s 3s/step - loss: 0.6875 - accuracy: 0.5281\n",
      "Epoch 15/30\n",
      "10/10 [==============================] - 28s 3s/step - loss: 0.6892 - accuracy: 0.5094\n",
      "Epoch 16/30\n",
      "10/10 [==============================] - 28s 3s/step - loss: 0.6966 - accuracy: 0.5219\n",
      "Epoch 17/30\n",
      "10/10 [==============================] - 28s 3s/step - loss: 0.6888 - accuracy: 0.5375\n",
      "Epoch 18/30\n",
      "10/10 [==============================] - 28s 3s/step - loss: 0.6796 - accuracy: 0.5938\n",
      "Epoch 19/30\n",
      "10/10 [==============================] - 28s 3s/step - loss: 0.6948 - accuracy: 0.5156\n",
      "Epoch 20/30\n",
      "10/10 [==============================] - 28s 3s/step - loss: 0.6831 - accuracy: 0.5719\n",
      "Epoch 21/30\n",
      "10/10 [==============================] - 27s 3s/step - loss: 0.6789 - accuracy: 0.5656\n",
      "Epoch 22/30\n",
      "10/10 [==============================] - 27s 3s/step - loss: 0.7056 - accuracy: 0.5188\n",
      "Epoch 23/30\n",
      "10/10 [==============================] - 26s 2s/step - loss: 0.6853 - accuracy: 0.5627\n",
      "Epoch 24/30\n",
      "10/10 [==============================] - 27s 3s/step - loss: 0.6968 - accuracy: 0.5094\n",
      "Epoch 25/30\n",
      "10/10 [==============================] - 27s 3s/step - loss: 0.6903 - accuracy: 0.4906\n",
      "Epoch 26/30\n",
      "10/10 [==============================] - 27s 3s/step - loss: 0.6852 - accuracy: 0.5531\n",
      "Epoch 27/30\n",
      "10/10 [==============================] - 27s 3s/step - loss: 0.6913 - accuracy: 0.5562\n",
      "Epoch 28/30\n",
      "10/10 [==============================] - 26s 3s/step - loss: 0.6834 - accuracy: 0.5312\n",
      "Epoch 29/30\n",
      "10/10 [==============================] - 27s 3s/step - loss: 0.6839 - accuracy: 0.5188\n",
      "Epoch 30/30\n",
      "10/10 [==============================] - 27s 3s/step - loss: 0.6790 - accuracy: 0.5500\n"
     ]
    }
   ],
   "source": [
    "for i in models:\n",
    "    i.fit(\n",
    "        train_generator,\n",
    "        steps_per_epoch=steps_per_epoch,\n",
    "        validation_steps=validation_steps,\n",
    "        epochs=epochs,\n",
    "#         validation_data=validation_generator,\n",
    "    )    "
   ]
  },
  {
   "cell_type": "markdown",
   "id": "eaf397ca",
   "metadata": {
    "execution": {
     "iopub.execute_input": "2023-01-29T18:16:04.829525Z",
     "iopub.status.busy": "2023-01-29T18:16:04.829109Z",
     "iopub.status.idle": "2023-01-29T18:16:05.01789Z",
     "shell.execute_reply": "2023-01-29T18:16:05.016405Z",
     "shell.execute_reply.started": "2023-01-29T18:16:04.829491Z"
    },
    "papermill": {
     "duration": 0.022695,
     "end_time": "2023-02-01T18:51:28.822353",
     "exception": false,
     "start_time": "2023-02-01T18:51:28.799658",
     "status": "completed"
    },
    "tags": []
   },
   "source": [
    "# model testing"
   ]
  },
  {
   "cell_type": "code",
   "execution_count": 10,
   "id": "32cb2fa8",
   "metadata": {
    "execution": {
     "iopub.execute_input": "2023-02-01T18:51:28.867877Z",
     "iopub.status.busy": "2023-02-01T18:51:28.867524Z",
     "iopub.status.idle": "2023-02-01T18:51:28.901673Z",
     "shell.execute_reply": "2023-02-01T18:51:28.900747Z"
    },
    "papermill": {
     "duration": 0.059301,
     "end_time": "2023-02-01T18:51:28.903780",
     "exception": false,
     "start_time": "2023-02-01T18:51:28.844479",
     "status": "completed"
    },
    "tags": []
   },
   "outputs": [
    {
     "data": {
      "text/html": [
       "<div>\n",
       "<style scoped>\n",
       "    .dataframe tbody tr th:only-of-type {\n",
       "        vertical-align: middle;\n",
       "    }\n",
       "\n",
       "    .dataframe tbody tr th {\n",
       "        vertical-align: top;\n",
       "    }\n",
       "\n",
       "    .dataframe thead th {\n",
       "        text-align: right;\n",
       "    }\n",
       "</style>\n",
       "<table border=\"1\" class=\"dataframe\">\n",
       "  <thead>\n",
       "    <tr style=\"text-align: right;\">\n",
       "      <th></th>\n",
       "      <th>image_id</th>\n",
       "    </tr>\n",
       "  </thead>\n",
       "  <tbody>\n",
       "    <tr>\n",
       "      <th>0</th>\n",
       "      <td>/kaggle/input/mayo-clinic-strip-ai/test/006388...</td>\n",
       "    </tr>\n",
       "    <tr>\n",
       "      <th>1</th>\n",
       "      <td>/kaggle/input/mayo-clinic-strip-ai/test/008e5c...</td>\n",
       "    </tr>\n",
       "    <tr>\n",
       "      <th>2</th>\n",
       "      <td>/kaggle/input/mayo-clinic-strip-ai/test/00c058...</td>\n",
       "    </tr>\n",
       "    <tr>\n",
       "      <th>3</th>\n",
       "      <td>/kaggle/input/mayo-clinic-strip-ai/test/01adc5...</td>\n",
       "    </tr>\n",
       "  </tbody>\n",
       "</table>\n",
       "</div>"
      ],
      "text/plain": [
       "                                            image_id\n",
       "0  /kaggle/input/mayo-clinic-strip-ai/test/006388...\n",
       "1  /kaggle/input/mayo-clinic-strip-ai/test/008e5c...\n",
       "2  /kaggle/input/mayo-clinic-strip-ai/test/00c058...\n",
       "3  /kaggle/input/mayo-clinic-strip-ai/test/01adc5..."
      ]
     },
     "execution_count": 10,
     "metadata": {},
     "output_type": "execute_result"
    }
   ],
   "source": [
    "def make_test_file(x):\n",
    "    return os.path.join(test_imgs_dir,x+'.tif')\n",
    "test = pd.read_csv(test_csv)\n",
    "test_data = pd.DataFrame({'image_id': test.image_id.apply(make_test_file)})\n",
    "test_data.head()"
   ]
  },
  {
   "cell_type": "code",
   "execution_count": 11,
   "id": "e79c1361",
   "metadata": {
    "execution": {
     "iopub.execute_input": "2023-02-01T18:51:28.951434Z",
     "iopub.status.busy": "2023-02-01T18:51:28.950456Z",
     "iopub.status.idle": "2023-02-01T18:51:39.987534Z",
     "shell.execute_reply": "2023-02-01T18:51:39.986525Z"
    },
    "papermill": {
     "duration": 11.063528,
     "end_time": "2023-02-01T18:51:39.990230",
     "exception": false,
     "start_time": "2023-02-01T18:51:28.926702",
     "status": "completed"
    },
    "tags": []
   },
   "outputs": [
    {
     "name": "stdout",
     "output_type": "stream",
     "text": [
      "0\n",
      "1\n",
      "2\n",
      "3\n"
     ]
    }
   ],
   "source": [
    "preds=[]\n",
    "for x in range(int(test_data.size)):\n",
    "    img_path = test_data.image_id[x]\n",
    "    slide = open_slide(img_path)\n",
    "    tiles=DeepZoomGenerator(slide,tile_size=inp_size,overlap=0,limit_bounds=False)\n",
    "    cols,rows = tiles.level_tiles[tiles.level_count-1]\n",
    "    print(x)\n",
    "    temp_preds=[]\n",
    "    count=0\n",
    "    \n",
    "    for row in range(0,rows,5):\n",
    "        for col in range(0,cols,5):\n",
    "            tile=tiles.get_tile(tiles.level_count-1,(col,row))\n",
    "            tile=tile.convert(\"RGB\")\n",
    "            tile=np.array(tile)\n",
    "            try:\n",
    "                if tile.mean()<180 and tile.std()>50:                    \n",
    "                    tile = np.reshape(tile, [1,inp_size, inp_size, 3])\n",
    "                    p=[i.predict(tile/255) for i in models]\n",
    "                    t_p = sum(p)/len(p)                    \n",
    "                    temp_preds.append(t_p)\n",
    "                    count+=1\n",
    "                    if count>Num_tiles_to_consider_for_prediction:break\n",
    "            except :\n",
    "                pass        \n",
    "            if count>Num_tiles_to_consider_for_prediction:break\n",
    "    if len(temp_preds) > 0:\n",
    "        preds.append(sum(temp_preds)/len(temp_preds))\n",
    "    else:\n",
    "        preds.append([[0.5,0.5]])\n",
    "    del slide\n",
    "    del tiles\n",
    "    gc.collect()"
   ]
  },
  {
   "cell_type": "code",
   "execution_count": 12,
   "id": "9512b662",
   "metadata": {
    "execution": {
     "iopub.execute_input": "2023-02-01T18:51:40.039037Z",
     "iopub.status.busy": "2023-02-01T18:51:40.038641Z",
     "iopub.status.idle": "2023-02-01T18:51:40.047602Z",
     "shell.execute_reply": "2023-02-01T18:51:40.046644Z"
    },
    "papermill": {
     "duration": 0.035496,
     "end_time": "2023-02-01T18:51:40.049843",
     "exception": false,
     "start_time": "2023-02-01T18:51:40.014347",
     "status": "completed"
    },
    "tags": []
   },
   "outputs": [
    {
     "data": {
      "text/plain": [
       "[array([[0.5499059 , 0.45009407]], dtype=float32),\n",
       " array([[0.52042913, 0.4795708 ]], dtype=float32),\n",
       " array([[0.6839167 , 0.31608328]], dtype=float32),\n",
       " array([[0.5301441 , 0.46985596]], dtype=float32)]"
      ]
     },
     "execution_count": 12,
     "metadata": {},
     "output_type": "execute_result"
    }
   ],
   "source": [
    "preds"
   ]
  },
  {
   "cell_type": "code",
   "execution_count": 13,
   "id": "d7c84e11",
   "metadata": {
    "execution": {
     "iopub.execute_input": "2023-02-01T18:51:40.097912Z",
     "iopub.status.busy": "2023-02-01T18:51:40.097524Z",
     "iopub.status.idle": "2023-02-01T18:51:40.139518Z",
     "shell.execute_reply": "2023-02-01T18:51:40.138551Z"
    },
    "papermill": {
     "duration": 0.068642,
     "end_time": "2023-02-01T18:51:40.141616",
     "exception": false,
     "start_time": "2023-02-01T18:51:40.072974",
     "status": "completed"
    },
    "tags": []
   },
   "outputs": [
    {
     "data": {
      "text/html": [
       "<div>\n",
       "<style scoped>\n",
       "    .dataframe tbody tr th:only-of-type {\n",
       "        vertical-align: middle;\n",
       "    }\n",
       "\n",
       "    .dataframe tbody tr th {\n",
       "        vertical-align: top;\n",
       "    }\n",
       "\n",
       "    .dataframe thead th {\n",
       "        text-align: right;\n",
       "    }\n",
       "</style>\n",
       "<table border=\"1\" class=\"dataframe\">\n",
       "  <thead>\n",
       "    <tr style=\"text-align: right;\">\n",
       "      <th></th>\n",
       "      <th>patient_id</th>\n",
       "      <th>CE</th>\n",
       "      <th>LAA</th>\n",
       "    </tr>\n",
       "  </thead>\n",
       "  <tbody>\n",
       "    <tr>\n",
       "      <th>0</th>\n",
       "      <td>006388</td>\n",
       "      <td>0.549906</td>\n",
       "      <td>0.450094</td>\n",
       "    </tr>\n",
       "    <tr>\n",
       "      <th>1</th>\n",
       "      <td>008e5c</td>\n",
       "      <td>0.520429</td>\n",
       "      <td>0.479571</td>\n",
       "    </tr>\n",
       "    <tr>\n",
       "      <th>2</th>\n",
       "      <td>00c058</td>\n",
       "      <td>0.683917</td>\n",
       "      <td>0.316083</td>\n",
       "    </tr>\n",
       "    <tr>\n",
       "      <th>3</th>\n",
       "      <td>01adc5</td>\n",
       "      <td>0.530144</td>\n",
       "      <td>0.469856</td>\n",
       "    </tr>\n",
       "  </tbody>\n",
       "</table>\n",
       "</div>"
      ],
      "text/plain": [
       "  patient_id        CE       LAA\n",
       "0     006388  0.549906  0.450094\n",
       "1     008e5c  0.520429  0.479571\n",
       "2     00c058  0.683917  0.316083\n",
       "3     01adc5  0.530144  0.469856"
      ]
     },
     "execution_count": 13,
     "metadata": {},
     "output_type": "execute_result"
    }
   ],
   "source": [
    "preds = pd.DataFrame(np.concatenate(preds))\n",
    "submission = pd.read_csv('/kaggle/input/mayo-clinic-strip-ai/sample_submission.csv')\n",
    "submission.CE = preds.iloc[ : , : 1]\n",
    "submission.LAA = preds.iloc[ : , 1: 2]\n",
    "submission = submission.groupby(\"patient_id\").mean()\n",
    "submission = submission[[\"CE\", \"LAA\"]].round(6).reset_index()\n",
    "submission.fillna(0.5)\n",
    "submission"
   ]
  },
  {
   "cell_type": "code",
   "execution_count": 14,
   "id": "8eaeac6f",
   "metadata": {
    "execution": {
     "iopub.execute_input": "2023-02-01T18:51:40.190974Z",
     "iopub.status.busy": "2023-02-01T18:51:40.190045Z",
     "iopub.status.idle": "2023-02-01T18:51:41.387204Z",
     "shell.execute_reply": "2023-02-01T18:51:41.385987Z"
    },
    "papermill": {
     "duration": 1.225457,
     "end_time": "2023-02-01T18:51:41.390815",
     "exception": false,
     "start_time": "2023-02-01T18:51:40.165358",
     "status": "completed"
    },
    "tags": []
   },
   "outputs": [
    {
     "name": "stdout",
     "output_type": "stream",
     "text": [
      "patient_id,CE,LAA\r\n",
      "006388,0.549906,0.450094\r\n",
      "008e5c,0.520429,0.479571\r\n",
      "00c058,0.683917,0.316083\r\n",
      "01adc5,0.530144,0.469856\r\n"
     ]
    }
   ],
   "source": [
    "submission[[\"patient_id\", \"CE\", \"LAA\"]].to_csv(\"submission.csv\", index=False)\n",
    "!head submission.csv"
   ]
  },
  {
   "cell_type": "code",
   "execution_count": null,
   "id": "26f93963",
   "metadata": {
    "papermill": {
     "duration": 0.035163,
     "end_time": "2023-02-01T18:51:41.461660",
     "exception": false,
     "start_time": "2023-02-01T18:51:41.426497",
     "status": "completed"
    },
    "tags": []
   },
   "outputs": [],
   "source": []
  }
 ],
 "metadata": {
  "kernelspec": {
   "display_name": "Python 3",
   "language": "python",
   "name": "python3"
  },
  "language_info": {
   "codemirror_mode": {
    "name": "ipython",
    "version": 3
   },
   "file_extension": ".py",
   "mimetype": "text/x-python",
   "name": "python",
   "nbconvert_exporter": "python",
   "pygments_lexer": "ipython3",
   "version": "3.7.12"
  },
  "papermill": {
   "default_parameters": {},
   "duration": 1132.746255,
   "end_time": "2023-02-01T18:51:44.769103",
   "environment_variables": {},
   "exception": null,
   "input_path": "__notebook__.ipynb",
   "output_path": "__notebook__.ipynb",
   "parameters": {},
   "start_time": "2023-02-01T18:32:52.022848",
   "version": "2.3.4"
  }
 },
 "nbformat": 4,
 "nbformat_minor": 5
}
